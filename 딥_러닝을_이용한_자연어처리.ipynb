{
  "nbformat": 4,
  "nbformat_minor": 0,
  "metadata": {
    "colab": {
      "provenance": []
    },
    "kernelspec": {
      "name": "python3",
      "display_name": "Python 3"
    },
    "language_info": {
      "name": "python"
    }
  },
  "cells": [
    {
      "cell_type": "markdown",
      "source": [
        "#토큰화"
      ],
      "metadata": {
        "id": "W43n5dU9ZAI8"
      }
    },
    {
      "cell_type": "markdown",
      "source": [
        "우선 word_tokenize,와 WordPunctTokenizer, keras에 있는 text_to_word_sequence를 불러온다"
      ],
      "metadata": {
        "id": "kLMUWsoKqIkc"
      }
    },
    {
      "cell_type": "code",
      "source": [
        "from nltk.tokenize import word_tokenize\n",
        "from nltk.tokenize import WordPunctTokenizer\n",
        "from tensorflow.keras.preprocessing.text import text_to_word_sequence"
      ],
      "metadata": {
        "id": "jMXmE5O3qVFi"
      },
      "execution_count": null,
      "outputs": []
    },
    {
      "cell_type": "markdown",
      "source": [
        "word_tokenize로 토큰화 해본다."
      ],
      "metadata": {
        "id": "Xb1hIgd7qi6M"
      }
    },
    {
      "cell_type": "code",
      "source": [
        "import nltk\n",
        "nltk.download('punkt')\n",
        "print('word_tokenize 도구 이용 : ', word_tokenize(\"I don't care don't stop. I hate you !\"))"
      ],
      "metadata": {
        "colab": {
          "base_uri": "https://localhost:8080/"
        },
        "id": "ZjuVC_Xlqmtz",
        "outputId": "0b6baf9b-14d7-42ec-92ec-d931a309b55e"
      },
      "execution_count": null,
      "outputs": [
        {
          "output_type": "stream",
          "name": "stdout",
          "text": [
            "word_tokenize 도구 이용 :  ['I', 'do', \"n't\", 'care', 'do', \"n't\", 'stop', '.', 'I', 'hate', 'you', '!']\n"
          ]
        },
        {
          "output_type": "stream",
          "name": "stderr",
          "text": [
            "[nltk_data] Downloading package punkt to /root/nltk_data...\n",
            "[nltk_data]   Package punkt is already up-to-date!\n"
          ]
        }
      ]
    },
    {
      "cell_type": "markdown",
      "source": [
        "결과로는 don't를 do,n't로 구분한 걸 알 수 있다."
      ],
      "metadata": {
        "id": "AnFre5FIrU_b"
      }
    },
    {
      "cell_type": "markdown",
      "source": [
        "WordPunctTokenizer로 토큰화 해본다."
      ],
      "metadata": {
        "id": "Aq3xiEahrk48"
      }
    },
    {
      "cell_type": "code",
      "source": [
        "print('WordPunctTokenizer 도구 이용 : ', WordPunctTokenizer().tokenize(\"I don't care don't stop.I hate you !\"))"
      ],
      "metadata": {
        "id": "rBDTUYHUruEm"
      },
      "execution_count": null,
      "outputs": []
    },
    {
      "cell_type": "markdown",
      "source": [
        "결과로는 don't를 don,',t로 구분 한 걸 알 수 있다.\n"
      ],
      "metadata": {
        "id": "uf7V4ZhRsTFO"
      }
    },
    {
      "cell_type": "markdown",
      "source": [
        "마지막으로 keras에 도구인 text_to_word_sequence로 토큰화를 해보자"
      ],
      "metadata": {
        "id": "q4uAff30szgj"
      }
    },
    {
      "cell_type": "code",
      "source": [
        "print('text_to_word_sequence 이용 : ', text_to_word_sequence(\"I don't care don't stop.I hate you !\"))"
      ],
      "metadata": {
        "colab": {
          "base_uri": "https://localhost:8080/"
        },
        "id": "fRcOBTERs7rT",
        "outputId": "5681f353-06cb-4a5d-87a2-0da8ee85c9d9"
      },
      "execution_count": null,
      "outputs": [
        {
          "output_type": "stream",
          "name": "stdout",
          "text": [
            "text_to_word_sequence 이용 :  ['i', \"don't\", 'care', \"don't\", 'stop', 'i', 'hate', 'you']\n"
          ]
        }
      ]
    },
    {
      "cell_type": "markdown",
      "source": [
        "대문자를 소문자로 바꾸고 구두점과 특수 문자를 제거 하는 것을 알 수 있다.don't를 don't로 하나의 토큰으로 인식하고 구분 한 걸 알 수 있다."
      ],
      "metadata": {
        "id": "J_SRym-MtPAz"
      }
    },
    {
      "cell_type": "markdown",
      "source": [
        "영어 문장의 경우에 특수문자를 제거하게 되면 의미가 달라질 수 있다.\n",
        "\n",
        "그래서 표준으로 사용되고 있는 표준 토큰화인 TreebankWordTokenizer를 사용해보자\n",
        "\n",
        "표준 토큰화 규칙\n",
        "\n",
        "1. 하이푼으로 구성된 단어는 하나로 유지\n",
        "\n",
        "2. doesn't와 같이 아포스트로피로'접어'가 함꼐하는 단어는 분리"
      ],
      "metadata": {
        "id": "nNSJsKknuNdj"
      }
    },
    {
      "cell_type": "code",
      "source": [
        "from nltk.tokenize import TreebankWordTokenizer\n",
        "tokenizer = TreebankWordTokenizer()\n",
        "text = (\"Starting a home-based restaurant may be an ideal.it doesn't have a food chain or restaurant of  their own.\")\n",
        "print('표준 토큰화 방식 : ',tokenizer.tokenize(text))"
      ],
      "metadata": {
        "colab": {
          "base_uri": "https://localhost:8080/"
        },
        "id": "5uMrf92Qufe-",
        "outputId": "3f748871-ab8d-4572-99ad-4854403a73f1"
      },
      "execution_count": null,
      "outputs": [
        {
          "output_type": "stream",
          "name": "stdout",
          "text": [
            "표준 토큰화 방식 :  ['Starting', 'a', 'home-based', 'restaurant', 'may', 'be', 'an', 'ideal.it', 'does', \"n't\", 'have', 'a', 'food', 'chain', 'or', 'restaurant', 'of', 'their', 'own', '.']\n"
          ]
        }
      ]
    },
    {
      "cell_type": "markdown",
      "source": [
        "결과를 보면 규칙을 토대로 나온 것을 알 수 있다."
      ],
      "metadata": {
        "id": "A5KVNDgPv42l"
      }
    },
    {
      "cell_type": "markdown",
      "source": [
        "nltk에서의 문장 토큰화 sent_tokenize에서 마침표가 중간 중간 있는 문장과 없는 문장을 적어보자"
      ],
      "metadata": {
        "id": "vcOIh6D0xvuD"
      }
    },
    {
      "cell_type": "code",
      "source": [
        "print('중간 온점 없는 sent_tokenize : ', sent_tokenize(\"His barber kept his word. But keeping such a huge secret to himself was driving him crazy.\"))"
      ],
      "metadata": {
        "colab": {
          "base_uri": "https://localhost:8080/"
        },
        "id": "ZYvEoBa70cn7",
        "outputId": "2641ca3f-59df-4d77-81c6-fac003c21135"
      },
      "execution_count": null,
      "outputs": [
        {
          "output_type": "stream",
          "name": "stdout",
          "text": [
            "중간 온점 없는 sent_tokenize :  ['His barber kept his word.', 'But keeping such a huge secret to himself was driving him crazy.']\n"
          ]
        }
      ]
    },
    {
      "cell_type": "code",
      "source": [
        "from nltk.tokenize import sent_tokenize\n",
        "print('sent_tokenize : ',sent_tokenize(\"I am actively looking for Ph.D. students. and you are a Ph.D student.\"))"
      ],
      "metadata": {
        "colab": {
          "base_uri": "https://localhost:8080/"
        },
        "id": "TwuO4SuKz9t7",
        "outputId": "7c1f326b-5554-4f2d-ceb3-6a28b1ea54b4"
      },
      "execution_count": null,
      "outputs": [
        {
          "output_type": "stream",
          "name": "stdout",
          "text": [
            "sent_tokenize :  ['I am actively looking for Ph.D. students.', 'and you are a Ph.D student.']\n"
          ]
        }
      ]
    },
    {
      "cell_type": "markdown",
      "source": [
        "결과로는 NLTK는 마침표를 구분자로 문장을 구분하지 않는다라는걸 알 수 있음"
      ],
      "metadata": {
        "id": "OJxnuDmJ1Sj6"
      }
    },
    {
      "cell_type": "markdown",
      "source": [
        "NLTK와 KoNLPY를 통해서 품사 태깅 실습"
      ],
      "metadata": {
        "id": "iisoGOW4j858"
      }
    },
    {
      "cell_type": "code",
      "source": [
        "from nltk.tokenize import word_tokenize\n",
        "from nltk.tag import pos_tag\n",
        "\n",
        "text=\"I'am actively looking for Ph.D students. and you are a Ph.D. student\"\n",
        "tokenized_sentence = word_tokenize(text)\n",
        "\n",
        "print(\"단어 태깅 : \",tokenized_sentence)\n",
        "print(\"품사 태깅 : \",pos_tag(tokenized_sentence))"
      ],
      "metadata": {
        "colab": {
          "base_uri": "https://localhost:8080/"
        },
        "id": "uDPdmJQ1kCQ0",
        "outputId": "f266ddfb-cd97-4aef-d772-cb13ae7b2be2"
      },
      "execution_count": 9,
      "outputs": [
        {
          "output_type": "stream",
          "name": "stdout",
          "text": [
            "단어 태깅 :  [\"I'am\", 'actively', 'looking', 'for', 'Ph.D', 'students', '.', 'and', 'you', 'are', 'a', 'Ph.D.', 'student']\n",
            "품사 태깅 :  [(\"I'am\", 'NNP'), ('actively', 'RB'), ('looking', 'VBG'), ('for', 'IN'), ('Ph.D', 'NNP'), ('students', 'NNS'), ('.', '.'), ('and', 'CC'), ('you', 'PRP'), ('are', 'VBP'), ('a', 'DT'), ('Ph.D.', 'NNP'), ('student', 'NN')]\n"
          ]
        }
      ]
    },
    {
      "cell_type": "markdown",
      "source": [
        "결과로는 그냥 단어만 토큰화 했을 때는 띄어쓰기 단위로 단어만 토큰화 된 것을 알 수 있지만\n",
        "\n",
        "품사태깅을 했을 시 토큰화 된것 뒤에 품사 태깅 된것을 알 수가 있다."
      ],
      "metadata": {
        "id": "3o7fkhLVPFyq"
      }
    },
    {
      "cell_type": "code",
      "source": [
        "from konlpy.tag import Okt\n",
        "from konlpy.tag import Kkma\n",
        "\n",
        "okt = Okt()\n",
        "kkma = Kkma()\n",
        "\n",
        "print(\"okt 형태소 분석 : \", okt.morphs(\"열심히 코딩을 배운 당신, 휴식을 취해요\"))\n",
        "print(\"okt 품사 태깅 : \", okt.pos(\"열심히 코딩을 배운 당신, 휴식을 취해요\"))\n",
        "print(\"okt 명사 추출 : \", okt.nouns(\"열심히 코딩을 배운 당신, 휴식을 취해요\"))\n",
        "print(\"______________________________________________________________________________________\\n\")\n",
        "print(\"kkma 형태소 분석 : \",kkma.morphs (\"열심히 코딩을 배운 당신, 휴식을 취해요\"))\n",
        "print(\"kkma 품사 태깅 : \",kkma.pos(\"열심히 코딩을 배운 당신, 휴식을 취해요\"))\n",
        "print(\"kkma 명사 추출 : \",kkma.nouns(\"열심히 코딩을 배운 당신, 휴식을 취해요\"))"
      ],
      "metadata": {
        "id": "n7DS6wPmPatH",
        "colab": {
          "base_uri": "https://localhost:8080/"
        },
        "outputId": "8ef2bd4f-8aaf-45f4-e31c-3942c9115053"
      },
      "execution_count": 7,
      "outputs": [
        {
          "output_type": "stream",
          "name": "stdout",
          "text": [
            "okt 형태소 분석 :  ['열심히', '코딩', '을', '배운', '당신', ',', '휴식', '을', '취해', '요']\n",
            "okt 품사 태깅 :  [('열심히', 'Adverb'), ('코딩', 'Noun'), ('을', 'Josa'), ('배운', 'Verb'), ('당신', 'Noun'), (',', 'Punctuation'), ('휴식', 'Noun'), ('을', 'Josa'), ('취해', 'Noun'), ('요', 'Josa')]\n",
            "okt 명사 추출 :  ['코딩', '당신', '휴식', '취해']\n",
            "______________________________________________________________________________________\n",
            "\n",
            "kkma 형태소 분석 :  ['열심히', '코딩', '을', '배우', 'ㄴ', '당신', ',', '휴식', '을', '취하', '어요']\n",
            "kkma 품사 태깅 :  [('열심히', 'MAG'), ('코딩', 'NNG'), ('을', 'JKO'), ('배우', 'VV'), ('ㄴ', 'ETD'), ('당신', 'NP'), (',', 'SP'), ('휴식', 'NNG'), ('을', 'JKO'), ('취하', 'VV'), ('어요', 'EFN')]\n",
            "kkma 명사 추출 :  ['코딩', '당신', '휴식']\n"
          ]
        }
      ]
    },
    {
      "cell_type": "markdown",
      "source": [
        "한글의 형태소 분석기 Okt,Kkma를 이용하여 형태소 분석 - .morphs, 품사태깅-.pos\n",
        "명사 추출 - .nouns를 실행 해보았다 "
      ],
      "metadata": {
        "id": "ksf7vrbjAcM5"
      }
    },
    {
      "cell_type": "markdown",
      "source": [
        "#정제 및 정규화"
      ],
      "metadata": {
        "id": "JI1AQ3IuZLPV"
      }
    },
    {
      "cell_type": "markdown",
      "source": [
        "불필요한 단어 제거"
      ],
      "metadata": {
        "id": "TW3jBjRWJlsI"
      }
    },
    {
      "cell_type": "code",
      "source": [
        "import re\n",
        "text = \"I was wondering if anyone out there could enlighten me on this car.\"\n",
        "\n",
        "#길이가 1~2인 단러들을 정규 표현식을 이용하여 삭제\n",
        "shortword=re.compile(r'\\w*\\b\\w{1,2}\\b')\n",
        "print(shortword.sub('',text))"
      ],
      "metadata": {
        "colab": {
          "base_uri": "https://localhost:8080/"
        },
        "id": "eLqcsUQlJq3y",
        "outputId": "8ab35b6d-dc3d-46be-964e-8957cffb0b11"
      },
      "execution_count": 18,
      "outputs": [
        {
          "output_type": "stream",
          "name": "stdout",
          "text": [
            " was wondering  anyone out there could enlighten   this car.\n"
          ]
        }
      ]
    },
    {
      "cell_type": "markdown",
      "source": [
        "정규표현식 https://nachwon.github.io/regular-expressions/ 참고"
      ],
      "metadata": {
        "id": "LcuNLS6IK7Ly"
      }
    },
    {
      "cell_type": "code",
      "source": [
        "from nltk.stem import WordNetLemmatizer\n",
        "\n",
        "lemmatizer = WordNetLemmatizer()\n",
        "\n",
        "words = ['policy','doing','organization','have','going','fire','loving','love','fly','watched','has','starting']\n",
        "\n",
        "print(\"표제어 추출 전 : \",words)\n",
        "print(\"표제어 추출 후 : \",[lemmatizer.lemmatize(word)for word in words]) "
      ],
      "metadata": {
        "colab": {
          "base_uri": "https://localhost:8080/"
        },
        "id": "pQY-mlhELFW0",
        "outputId": "8b58c301-b731-4e39-c94b-72b5a77f3176"
      },
      "execution_count": 28,
      "outputs": [
        {
          "output_type": "stream",
          "name": "stdout",
          "text": [
            "표제어 추출 전 :  ['policy', 'doing', 'organization', 'have', 'going', 'fire', 'loving', 'love', 'fly', 'watched', 'has', 'starting']\n",
            "표제어 추출 후 :  ['policy', 'doing', 'organization', 'have', 'going', 'fire', 'loving', 'love', 'fly', 'watched', 'ha', 'starting']\n"
          ]
        }
      ]
    },
    {
      "cell_type": "markdown",
      "source": [
        "위 결과는 ha처럼 알 수 없는 단어가 추출되었는데 이는 표제어 추출기가 본래 단어의 품사 정보를 알아야만 정확한 결과를 얻을 수 있기 때문이다."
      ],
      "metadata": {
        "id": "CMNsF7WCOsnB"
      }
    },
    {
      "cell_type": "code",
      "source": [
        "lemmatizer.lemmatize('has','v')"
      ],
      "metadata": {
        "colab": {
          "base_uri": "https://localhost:8080/",
          "height": 35
        },
        "id": "jwwopTDfQIUs",
        "outputId": "09781f68-4c9c-49cc-b996-a1c27bc8b619"
      },
      "execution_count": 29,
      "outputs": [
        {
          "output_type": "execute_result",
          "data": {
            "text/plain": [
              "'have'"
            ],
            "application/vnd.google.colaboratory.intrinsic+json": {
              "type": "string"
            }
          },
          "metadata": {},
          "execution_count": 29
        }
      ]
    },
    {
      "cell_type": "markdown",
      "source": [
        "#불용어 제거"
      ],
      "metadata": {
        "id": "N951UxAKY5h6"
      }
    },
    {
      "cell_type": "markdown",
      "source": [
        "포터 알고리즘의 규칙\n",
        "1.ALIZE -AL\n",
        "2.ANCE- 제거\n",
        "3.ICAL -IC"
      ],
      "metadata": {
        "id": "Hp4hR9GFQ-Nj"
      }
    },
    {
      "cell_type": "code",
      "source": [
        "from nltk.stem import PorterStemmer\n",
        "from nltk.tokenize import word_tokenize\n",
        "\n",
        "\n",
        "stemmer = PorterStemmer()\n",
        "\n",
        "sentence= \"This was not the map we found in Billy Bones's chest, but an accurate copy, complete in all things--names and heights and soundings--with the single exception of the red crosses and the written notes.\"\n",
        "tokenized_sentence =  word_tokenize(sentence)\n",
        "\n",
        "print(\"어간 추출 전 : \",tokenized_sentence)\n",
        "print(\"어간 추출 후 : \",[stemmer.stem(word)for word in tokenized_sentence])"
      ],
      "metadata": {
        "colab": {
          "base_uri": "https://localhost:8080/"
        },
        "id": "gcDWD8E3QPf_",
        "outputId": "5c2c091a-3ae2-415e-e0d9-e328159becce"
      },
      "execution_count": 30,
      "outputs": [
        {
          "output_type": "stream",
          "name": "stdout",
          "text": [
            "어간 추출 전 :  ['This', 'was', 'not', 'the', 'map', 'we', 'found', 'in', 'Billy', 'Bones', \"'s\", 'chest', ',', 'but', 'an', 'accurate', 'copy', ',', 'complete', 'in', 'all', 'things', '--', 'names', 'and', 'heights', 'and', 'soundings', '--', 'with', 'the', 'single', 'exception', 'of', 'the', 'red', 'crosses', 'and', 'the', 'written', 'notes', '.']\n",
            "어간 추출 후 :  ['thi', 'wa', 'not', 'the', 'map', 'we', 'found', 'in', 'billi', 'bone', \"'s\", 'chest', ',', 'but', 'an', 'accur', 'copi', ',', 'complet', 'in', 'all', 'thing', '--', 'name', 'and', 'height', 'and', 'sound', '--', 'with', 'the', 'singl', 'except', 'of', 'the', 'red', 'cross', 'and', 'the', 'written', 'note', '.']\n"
          ]
        }
      ]
    },
    {
      "cell_type": "code",
      "source": [
        "from nltk.stem import PorterStemmer\n",
        "from nltk.stem import LancasterStemmer\n",
        "\n",
        "stemmer1 = PorterStemmer()\n",
        "stemmer2 = LancasterStemmer()\n",
        "\n",
        "words=['policy','doing','organization','have','going','love','lives','fly','dies','has']\n",
        "\n",
        "print(\"어간 추출 전 : \",words)\n",
        "print(\"포터 스태머 사용 : \",[stemmer1.stem(w)for w in words])\n",
        "print(\"랭커스트 스태머 사용 : \",[stemmer2.stem(w)for w in words])"
      ],
      "metadata": {
        "colab": {
          "base_uri": "https://localhost:8080/"
        },
        "id": "ZNZQOs7pQ3Bg",
        "outputId": "a025b428-5eb1-4ef4-cca8-04b753aee2f9"
      },
      "execution_count": 33,
      "outputs": [
        {
          "output_type": "stream",
          "name": "stdout",
          "text": [
            "어간 추출 전 :  ['policy', 'doing', 'organization', 'have', 'going', 'love', 'lives', 'fly', 'dies', 'has']\n",
            "포터 스태머 사용 :  ['polici', 'do', 'organ', 'have', 'go', 'love', 'live', 'fli', 'die', 'ha']\n",
            "랭커스트 스태머 사용 :  ['policy', 'doing', 'org', 'hav', 'going', 'lov', 'liv', 'fly', 'die', 'has']\n"
          ]
        }
      ]
    },
    {
      "cell_type": "code",
      "source": [
        "import nltk\n",
        "nltk.download('stopwords')"
      ],
      "metadata": {
        "colab": {
          "base_uri": "https://localhost:8080/"
        },
        "id": "EsDboO46Sxxd",
        "outputId": "9e752957-922a-4973-e70a-669b74971460"
      },
      "execution_count": 36,
      "outputs": [
        {
          "output_type": "stream",
          "name": "stderr",
          "text": [
            "[nltk_data] Downloading package stopwords to /root/nltk_data...\n",
            "[nltk_data]   Unzipping corpora/stopwords.zip.\n"
          ]
        },
        {
          "output_type": "execute_result",
          "data": {
            "text/plain": [
              "True"
            ]
          },
          "metadata": {},
          "execution_count": 36
        }
      ]
    },
    {
      "cell_type": "code",
      "source": [
        "from nltk.corpus import stopwords\n",
        "from nltk.tokenize import word_tokenize\n",
        "from konlpy.tag import Okt\n",
        "\n",
        "stop_words_list=stopwords.words('english')\n",
        "print(\"불용어 개수 : \", len(stop_words_list))\n",
        "print(\"불용어 10개 출력 \",stop_words_list[:10])"
      ],
      "metadata": {
        "colab": {
          "base_uri": "https://localhost:8080/"
        },
        "id": "geXAj1GpUD1y",
        "outputId": "a6b3a3cc-40fd-486f-8a35-68d8ccd42723"
      },
      "execution_count": 37,
      "outputs": [
        {
          "output_type": "stream",
          "name": "stdout",
          "text": [
            "불용어 개수 :  179\n",
            "불용어 10개 출력  ['i', 'me', 'my', 'myself', 'we', 'our', 'ours', 'ourselves', 'you', \"you're\"]\n"
          ]
        }
      ]
    },
    {
      "cell_type": "code",
      "source": [
        "from nltk.corpus import stopwords\n",
        "from nltk.tokenize import word_tokenize\n",
        "\n",
        "sentence = \"Family is not an important thing It's everything.\"\n",
        "stop_words=set(stopwords.words('english'))\n",
        "\n",
        "word_tokens = word_tokenize(sentence)\n",
        "\n",
        "result=[]\n",
        "for w in word_tokens:\n",
        "  if w in stop_words:\n",
        "    result.append(w)\n",
        "\n",
        "print(\"불용어 제거 전 : \",word_tokens)\n",
        "print(\"불용어 제거 후 : \",result)\n"
      ],
      "metadata": {
        "colab": {
          "base_uri": "https://localhost:8080/"
        },
        "id": "0XSHVN_LUb55",
        "outputId": "7c920544-6615-4abb-b7fc-d5a1dd891f52"
      },
      "execution_count": 38,
      "outputs": [
        {
          "output_type": "stream",
          "name": "stdout",
          "text": [
            "불용어 제거 전 :  ['Family', 'is', 'not', 'an', 'important', 'thing', 'It', \"'s\", 'everything', '.']\n",
            "불용어 제거 후 :  ['is', 'not', 'an']\n"
          ]
        }
      ]
    },
    {
      "cell_type": "code",
      "source": [
        "from konlpy.tag import Okt\n",
        "\n",
        "okt = Okt()\n",
        "\n",
        "sentence = \"고기를 맘대로 굽지마. 고기 굽는 방법은 종류마다 다르고 시간도 다르다고!\"\n",
        "stop_words = \"맘대로 방법은 다르고\"\n",
        "\n",
        "stop_words = set(stop_words.split())\n",
        "word_tokens = okt.morphs(sentence)\n",
        "\n",
        "result = [word for word in word_tokens if not word in stop_words]\n",
        "\n",
        "print(\"불용어 제거 전 : \",(word_tokens))\n",
        "print(\"불용어 제거 후 : \",(result))"
      ],
      "metadata": {
        "colab": {
          "base_uri": "https://localhost:8080/"
        },
        "id": "Y6fVGjVvV3of",
        "outputId": "425253c3-4a28-4c3f-e17b-1057fba03f19"
      },
      "execution_count": 53,
      "outputs": [
        {
          "output_type": "stream",
          "name": "stdout",
          "text": [
            "불용어 제거 전 :  ['고기', '를', '맘대로', '굽지마', '.', '고기', '굽는', '방법', '은', '종류', '마다', '다르고', '시간', '도', '다르다고', '!']\n",
            "불용어 제거 후 :  ['고기', '를', '굽지마', '.', '고기', '굽는', '방법', '은', '종류', '마다', '시간', '도', '다르다고', '!']\n"
          ]
        }
      ]
    },
    {
      "cell_type": "markdown",
      "source": [
        "#정수 인코딩"
      ],
      "metadata": {
        "id": "mZkehBVSY06I"
      }
    },
    {
      "cell_type": "code",
      "source": [
        "from nltk.tokenize import sent_tokenize\n",
        "from nltk.tokenize import word_tokenize\n",
        "from nltk.corpus import stopwords\n",
        "\n",
        "raw_text = \"A barber is a person. a barber is good person. a barber is huge person. he Knew A Secret! The Secret He Kept is huge secret. Huge secret. His barber kept his word. a barber kept his word. His barber kept his secret. But keeping and keeping such a huge secret to himself was driving the barber crazy. the barber went up a huge mountain.\"\n",
        "\n",
        "#문장 토큰화\n",
        "sentences= sent_tokenize(raw_text)\n",
        "print(sentences)"
      ],
      "metadata": {
        "colab": {
          "base_uri": "https://localhost:8080/"
        },
        "id": "tchQpceMY2KK",
        "outputId": "c0b62fb3-e601-4069-c023-c6d2120ae2ac"
      },
      "execution_count": 56,
      "outputs": [
        {
          "output_type": "stream",
          "name": "stdout",
          "text": [
            "['A barber is a person.', 'a barber is good person.', 'a barber is huge person.', 'he Knew A Secret!', 'The Secret He Kept is huge secret.', 'Huge secret.', 'His barber kept his word.', 'a barber kept his word.', 'His barber kept his secret.', 'But keeping and keeping such a huge secret to himself was driving the barber crazy.', 'the barber went up a huge mountain.']\n"
          ]
        }
      ]
    },
    {
      "cell_type": "code",
      "source": [
        "vocab = {}\n",
        "preprocessed_sentence=[]\n",
        "stop_words = set(stopwords.words('english'))\n",
        "\n",
        "for sentence in sentences:\n",
        "  #단어 토큰화\n",
        "  tokenized_sentence = word_tokenize(sentence)\n",
        "  result = []\n",
        "  for word in tokenized_sentence:\n",
        "    word = word.lower() #모든 단어를 소문자화하여 단어의 개수를 줄인다\n",
        "    if word not in stop_words: #단어 토큰화 된 결과에 대해 불용어 제거\n",
        "      if len(word) > 2: #단어 길이가 2 이하인 경우에 대하여 추가로 단어로 제거한다.\n",
        "        result.append(word)\n",
        "        if word not in vocab:\n",
        "          vocab[word] = 0\n",
        "        vocab[word] += 1\n",
        "  preprocessed_sentence.append(result)\n",
        "print(preprocessed_sentence)\n",
        "print(\"_____________________________________________________________________________________________________________________________________________________________________________\\n\")\n",
        "\n",
        "print(vocab)\n"
      ],
      "metadata": {
        "colab": {
          "base_uri": "https://localhost:8080/"
        },
        "id": "obMbGbqoZrSP",
        "outputId": "3dc5da2f-f643-4488-e9f8-9d6511c005fd"
      },
      "execution_count": 62,
      "outputs": [
        {
          "output_type": "stream",
          "name": "stdout",
          "text": [
            "[['barber', 'person'], ['barber', 'good', 'person'], ['barber', 'huge', 'person'], ['knew', 'secret'], ['secret', 'kept', 'huge', 'secret'], ['huge', 'secret'], ['barber', 'kept', 'word'], ['barber', 'kept', 'word'], ['barber', 'kept', 'secret'], ['keeping', 'keeping', 'huge', 'secret', 'driving', 'barber', 'crazy'], ['barber', 'went', 'huge', 'mountain']]\n",
            "_____________________________________________________________________________________________________________________________________________________________________________\n",
            "\n",
            "{'barber': 8, 'person': 3, 'good': 1, 'huge': 5, 'knew': 1, 'secret': 6, 'kept': 4, 'word': 2, 'keeping': 2, 'driving': 1, 'crazy': 1, 'went': 1, 'mountain': 1}\n"
          ]
        }
      ]
    },
    {
      "cell_type": "code",
      "source": [],
      "metadata": {
        "id": "VLZA-0cvbhFJ"
      },
      "execution_count": null,
      "outputs": []
    }
  ]
}