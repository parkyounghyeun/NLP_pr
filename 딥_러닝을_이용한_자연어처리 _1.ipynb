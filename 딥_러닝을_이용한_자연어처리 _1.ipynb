{
  "nbformat": 4,
  "nbformat_minor": 0,
  "metadata": {
    "colab": {
      "provenance": []
    },
    "kernelspec": {
      "name": "python3",
      "display_name": "Python 3"
    },
    "language_info": {
      "name": "python"
    }
  },
  "cells": [
    {
      "cell_type": "markdown",
      "source": [
        "#토큰화"
      ],
      "metadata": {
        "id": "W43n5dU9ZAI8"
      }
    },
    {
      "cell_type": "markdown",
      "source": [
        "우선 word_tokenize,와 WordPunctTokenizer, keras에 있는 text_to_word_sequence를 불러온다"
      ],
      "metadata": {
        "id": "kLMUWsoKqIkc"
      }
    },
    {
      "cell_type": "code",
      "source": [
        "from nltk.tokenize import word_tokenize\n",
        "from nltk.tokenize import WordPunctTokenizer\n",
        "from tensorflow.keras.preprocessing.text import text_to_word_sequence"
      ],
      "metadata": {
        "id": "jMXmE5O3qVFi"
      },
      "execution_count": null,
      "outputs": []
    },
    {
      "cell_type": "markdown",
      "source": [
        "word_tokenize로 토큰화 해본다."
      ],
      "metadata": {
        "id": "Xb1hIgd7qi6M"
      }
    },
    {
      "cell_type": "code",
      "source": [
        "import nltk\n",
        "nltk.download('punkt')\n",
        "print('word_tokenize 도구 이용 : ', word_tokenize(\"I don't care don't stop. I hate you !\"))"
      ],
      "metadata": {
        "colab": {
          "base_uri": "https://localhost:8080/"
        },
        "id": "ZjuVC_Xlqmtz",
        "outputId": "0b6baf9b-14d7-42ec-92ec-d931a309b55e"
      },
      "execution_count": null,
      "outputs": [
        {
          "output_type": "stream",
          "name": "stdout",
          "text": [
            "word_tokenize 도구 이용 :  ['I', 'do', \"n't\", 'care', 'do', \"n't\", 'stop', '.', 'I', 'hate', 'you', '!']\n"
          ]
        },
        {
          "output_type": "stream",
          "name": "stderr",
          "text": [
            "[nltk_data] Downloading package punkt to /root/nltk_data...\n",
            "[nltk_data]   Package punkt is already up-to-date!\n"
          ]
        }
      ]
    },
    {
      "cell_type": "markdown",
      "source": [
        "결과로는 don't를 do,n't로 구분한 걸 알 수 있다."
      ],
      "metadata": {
        "id": "AnFre5FIrU_b"
      }
    },
    {
      "cell_type": "markdown",
      "source": [
        "WordPunctTokenizer로 토큰화 해본다."
      ],
      "metadata": {
        "id": "Aq3xiEahrk48"
      }
    },
    {
      "cell_type": "code",
      "source": [
        "print('WordPunctTokenizer 도구 이용 : ', WordPunctTokenizer().tokenize(\"I don't care don't stop.I hate you !\"))"
      ],
      "metadata": {
        "id": "rBDTUYHUruEm"
      },
      "execution_count": null,
      "outputs": []
    },
    {
      "cell_type": "markdown",
      "source": [
        "결과로는 don't를 don,',t로 구분 한 걸 알 수 있다.\n"
      ],
      "metadata": {
        "id": "uf7V4ZhRsTFO"
      }
    },
    {
      "cell_type": "markdown",
      "source": [
        "마지막으로 keras에 도구인 text_to_word_sequence로 토큰화를 해보자"
      ],
      "metadata": {
        "id": "q4uAff30szgj"
      }
    },
    {
      "cell_type": "code",
      "source": [
        "print('text_to_word_sequence 이용 : ', text_to_word_sequence(\"I don't care don't stop.I hate you !\"))"
      ],
      "metadata": {
        "colab": {
          "base_uri": "https://localhost:8080/"
        },
        "id": "fRcOBTERs7rT",
        "outputId": "5681f353-06cb-4a5d-87a2-0da8ee85c9d9"
      },
      "execution_count": null,
      "outputs": [
        {
          "output_type": "stream",
          "name": "stdout",
          "text": [
            "text_to_word_sequence 이용 :  ['i', \"don't\", 'care', \"don't\", 'stop', 'i', 'hate', 'you']\n"
          ]
        }
      ]
    },
    {
      "cell_type": "markdown",
      "source": [
        "대문자를 소문자로 바꾸고 구두점과 특수 문자를 제거 하는 것을 알 수 있다.don't를 don't로 하나의 토큰으로 인식하고 구분 한 걸 알 수 있다."
      ],
      "metadata": {
        "id": "J_SRym-MtPAz"
      }
    },
    {
      "cell_type": "markdown",
      "source": [
        "영어 문장의 경우에 특수문자를 제거하게 되면 의미가 달라질 수 있다.\n",
        "\n",
        "그래서 표준으로 사용되고 있는 표준 토큰화인 TreebankWordTokenizer를 사용해보자\n",
        "\n",
        "표준 토큰화 규칙\n",
        "\n",
        "1. 하이푼으로 구성된 단어는 하나로 유지\n",
        "\n",
        "2. doesn't와 같이 아포스트로피로'접어'가 함꼐하는 단어는 분리"
      ],
      "metadata": {
        "id": "nNSJsKknuNdj"
      }
    },
    {
      "cell_type": "code",
      "source": [
        "from nltk.tokenize import TreebankWordTokenizer\n",
        "tokenizer = TreebankWordTokenizer()\n",
        "text = (\"Starting a home-based restaurant may be an ideal.it doesn't have a food chain or restaurant of  their own.\")\n",
        "print('표준 토큰화 방식 : ',tokenizer.tokenize(text))"
      ],
      "metadata": {
        "colab": {
          "base_uri": "https://localhost:8080/"
        },
        "id": "5uMrf92Qufe-",
        "outputId": "3f748871-ab8d-4572-99ad-4854403a73f1"
      },
      "execution_count": null,
      "outputs": [
        {
          "output_type": "stream",
          "name": "stdout",
          "text": [
            "표준 토큰화 방식 :  ['Starting', 'a', 'home-based', 'restaurant', 'may', 'be', 'an', 'ideal.it', 'does', \"n't\", 'have', 'a', 'food', 'chain', 'or', 'restaurant', 'of', 'their', 'own', '.']\n"
          ]
        }
      ]
    },
    {
      "cell_type": "markdown",
      "source": [
        "결과를 보면 규칙을 토대로 나온 것을 알 수 있다."
      ],
      "metadata": {
        "id": "A5KVNDgPv42l"
      }
    },
    {
      "cell_type": "markdown",
      "source": [
        "nltk에서의 문장 토큰화 sent_tokenize에서 마침표가 중간 중간 있는 문장과 없는 문장을 적어보자"
      ],
      "metadata": {
        "id": "vcOIh6D0xvuD"
      }
    },
    {
      "cell_type": "code",
      "source": [
        "print('중간 온점 없는 sent_tokenize : ', sent_tokenize(\"His barber kept his word. But keeping such a huge secret to himself was driving him crazy.\"))"
      ],
      "metadata": {
        "colab": {
          "base_uri": "https://localhost:8080/"
        },
        "id": "ZYvEoBa70cn7",
        "outputId": "2641ca3f-59df-4d77-81c6-fac003c21135"
      },
      "execution_count": null,
      "outputs": [
        {
          "output_type": "stream",
          "name": "stdout",
          "text": [
            "중간 온점 없는 sent_tokenize :  ['His barber kept his word.', 'But keeping such a huge secret to himself was driving him crazy.']\n"
          ]
        }
      ]
    },
    {
      "cell_type": "code",
      "source": [
        "from nltk.tokenize import sent_tokenize\n",
        "print('sent_tokenize : ',sent_tokenize(\"I am actively looking for Ph.D. students. and you are a Ph.D student.\"))"
      ],
      "metadata": {
        "colab": {
          "base_uri": "https://localhost:8080/"
        },
        "id": "TwuO4SuKz9t7",
        "outputId": "7c1f326b-5554-4f2d-ceb3-6a28b1ea54b4"
      },
      "execution_count": null,
      "outputs": [
        {
          "output_type": "stream",
          "name": "stdout",
          "text": [
            "sent_tokenize :  ['I am actively looking for Ph.D. students.', 'and you are a Ph.D student.']\n"
          ]
        }
      ]
    },
    {
      "cell_type": "markdown",
      "source": [
        "결과로는 NLTK는 마침표를 구분자로 문장을 구분하지 않는다라는걸 알 수 있음"
      ],
      "metadata": {
        "id": "OJxnuDmJ1Sj6"
      }
    },
    {
      "cell_type": "markdown",
      "source": [
        "NLTK와 KoNLPY를 통해서 품사 태깅 실습"
      ],
      "metadata": {
        "id": "iisoGOW4j858"
      }
    },
    {
      "cell_type": "code",
      "source": [
        "from nltk.tokenize import word_tokenize\n",
        "from nltk.tag import pos_tag\n",
        "\n",
        "text=\"I'am actively looking for Ph.D students. and you are a Ph.D. student\"\n",
        "tokenized_sentence = word_tokenize(text)\n",
        "\n",
        "print(\"단어 태깅 : \",tokenized_sentence)\n",
        "print(\"품사 태깅 : \",pos_tag(tokenized_sentence))"
      ],
      "metadata": {
        "colab": {
          "base_uri": "https://localhost:8080/"
        },
        "id": "uDPdmJQ1kCQ0",
        "outputId": "f266ddfb-cd97-4aef-d772-cb13ae7b2be2"
      },
      "execution_count": null,
      "outputs": [
        {
          "output_type": "stream",
          "name": "stdout",
          "text": [
            "단어 태깅 :  [\"I'am\", 'actively', 'looking', 'for', 'Ph.D', 'students', '.', 'and', 'you', 'are', 'a', 'Ph.D.', 'student']\n",
            "품사 태깅 :  [(\"I'am\", 'NNP'), ('actively', 'RB'), ('looking', 'VBG'), ('for', 'IN'), ('Ph.D', 'NNP'), ('students', 'NNS'), ('.', '.'), ('and', 'CC'), ('you', 'PRP'), ('are', 'VBP'), ('a', 'DT'), ('Ph.D.', 'NNP'), ('student', 'NN')]\n"
          ]
        }
      ]
    },
    {
      "cell_type": "markdown",
      "source": [
        "결과로는 그냥 단어만 토큰화 했을 때는 띄어쓰기 단위로 단어만 토큰화 된 것을 알 수 있지만\n",
        "\n",
        "품사태깅을 했을 시 토큰화 된것 뒤에 품사 태깅 된것을 알 수가 있다."
      ],
      "metadata": {
        "id": "3o7fkhLVPFyq"
      }
    },
    {
      "cell_type": "code",
      "source": [
        "from konlpy.tag import Okt\n",
        "from konlpy.tag import Kkma\n",
        "\n",
        "okt = Okt()\n",
        "kkma = Kkma()\n",
        "\n",
        "print(\"okt 형태소 분석 : \", okt.morphs(\"열심히 코딩을 배운 당신, 휴식을 취해요\"))\n",
        "print(\"okt 품사 태깅 : \", okt.pos(\"열심히 코딩을 배운 당신, 휴식을 취해요\"))\n",
        "print(\"okt 명사 추출 : \", okt.nouns(\"열심히 코딩을 배운 당신, 휴식을 취해요\"))\n",
        "print(\"______________________________________________________________________________________\\n\")\n",
        "print(\"kkma 형태소 분석 : \",kkma.morphs (\"열심히 코딩을 배운 당신, 휴식을 취해요\"))\n",
        "print(\"kkma 품사 태깅 : \",kkma.pos(\"열심히 코딩을 배운 당신, 휴식을 취해요\"))\n",
        "print(\"kkma 명사 추출 : \",kkma.nouns(\"열심히 코딩을 배운 당신, 휴식을 취해요\"))"
      ],
      "metadata": {
        "id": "n7DS6wPmPatH",
        "colab": {
          "base_uri": "https://localhost:8080/"
        },
        "outputId": "8ef2bd4f-8aaf-45f4-e31c-3942c9115053"
      },
      "execution_count": null,
      "outputs": [
        {
          "output_type": "stream",
          "name": "stdout",
          "text": [
            "okt 형태소 분석 :  ['열심히', '코딩', '을', '배운', '당신', ',', '휴식', '을', '취해', '요']\n",
            "okt 품사 태깅 :  [('열심히', 'Adverb'), ('코딩', 'Noun'), ('을', 'Josa'), ('배운', 'Verb'), ('당신', 'Noun'), (',', 'Punctuation'), ('휴식', 'Noun'), ('을', 'Josa'), ('취해', 'Noun'), ('요', 'Josa')]\n",
            "okt 명사 추출 :  ['코딩', '당신', '휴식', '취해']\n",
            "______________________________________________________________________________________\n",
            "\n",
            "kkma 형태소 분석 :  ['열심히', '코딩', '을', '배우', 'ㄴ', '당신', ',', '휴식', '을', '취하', '어요']\n",
            "kkma 품사 태깅 :  [('열심히', 'MAG'), ('코딩', 'NNG'), ('을', 'JKO'), ('배우', 'VV'), ('ㄴ', 'ETD'), ('당신', 'NP'), (',', 'SP'), ('휴식', 'NNG'), ('을', 'JKO'), ('취하', 'VV'), ('어요', 'EFN')]\n",
            "kkma 명사 추출 :  ['코딩', '당신', '휴식']\n"
          ]
        }
      ]
    },
    {
      "cell_type": "markdown",
      "source": [
        "한글의 형태소 분석기 Okt,Kkma를 이용하여 형태소 분석 - .morphs, 품사태깅-.pos\n",
        "명사 추출 - .nouns를 실행 해보았다 "
      ],
      "metadata": {
        "id": "ksf7vrbjAcM5"
      }
    },
    {
      "cell_type": "markdown",
      "source": [
        "#정제 및 정규화"
      ],
      "metadata": {
        "id": "JI1AQ3IuZLPV"
      }
    },
    {
      "cell_type": "markdown",
      "source": [
        "불필요한 단어 제거"
      ],
      "metadata": {
        "id": "TW3jBjRWJlsI"
      }
    },
    {
      "cell_type": "code",
      "source": [
        "import re\n",
        "text = \"I was wondering if anyone out there could enlighten me on this car.\"\n",
        "\n",
        "#길이가 1~2인 단러들을 정규 표현식을 이용하여 삭제\n",
        "shortword=re.compile(r'\\w*\\b\\w{1,2}\\b')\n",
        "print(shortword.sub('',text))"
      ],
      "metadata": {
        "colab": {
          "base_uri": "https://localhost:8080/"
        },
        "id": "eLqcsUQlJq3y",
        "outputId": "8ab35b6d-dc3d-46be-964e-8957cffb0b11"
      },
      "execution_count": null,
      "outputs": [
        {
          "output_type": "stream",
          "name": "stdout",
          "text": [
            " was wondering  anyone out there could enlighten   this car.\n"
          ]
        }
      ]
    },
    {
      "cell_type": "markdown",
      "source": [
        "정규표현식 https://nachwon.github.io/regular-expressions/ 참고"
      ],
      "metadata": {
        "id": "LcuNLS6IK7Ly"
      }
    },
    {
      "cell_type": "code",
      "source": [
        "from nltk.stem import WordNetLemmatizer\n",
        "\n",
        "lemmatizer = WordNetLemmatizer()\n",
        "\n",
        "words = ['policy','doing','organization','have','going','fire','loving','love','fly','watched','has','starting']\n",
        "\n",
        "print(\"표제어 추출 전 : \",words)\n",
        "print(\"표제어 추출 후 : \",[lemmatizer.lemmatize(word)for word in words]) "
      ],
      "metadata": {
        "colab": {
          "base_uri": "https://localhost:8080/"
        },
        "id": "pQY-mlhELFW0",
        "outputId": "8b58c301-b731-4e39-c94b-72b5a77f3176"
      },
      "execution_count": null,
      "outputs": [
        {
          "output_type": "stream",
          "name": "stdout",
          "text": [
            "표제어 추출 전 :  ['policy', 'doing', 'organization', 'have', 'going', 'fire', 'loving', 'love', 'fly', 'watched', 'has', 'starting']\n",
            "표제어 추출 후 :  ['policy', 'doing', 'organization', 'have', 'going', 'fire', 'loving', 'love', 'fly', 'watched', 'ha', 'starting']\n"
          ]
        }
      ]
    },
    {
      "cell_type": "markdown",
      "source": [
        "위 결과는 ha처럼 알 수 없는 단어가 추출되었는데 이는 표제어 추출기가 본래 단어의 품사 정보를 알아야만 정확한 결과를 얻을 수 있기 때문이다."
      ],
      "metadata": {
        "id": "CMNsF7WCOsnB"
      }
    },
    {
      "cell_type": "code",
      "source": [
        "lemmatizer.lemmatize('has','v')"
      ],
      "metadata": {
        "colab": {
          "base_uri": "https://localhost:8080/",
          "height": 35
        },
        "id": "jwwopTDfQIUs",
        "outputId": "09781f68-4c9c-49cc-b996-a1c27bc8b619"
      },
      "execution_count": null,
      "outputs": [
        {
          "output_type": "execute_result",
          "data": {
            "text/plain": [
              "'have'"
            ],
            "application/vnd.google.colaboratory.intrinsic+json": {
              "type": "string"
            }
          },
          "metadata": {},
          "execution_count": 29
        }
      ]
    },
    {
      "cell_type": "markdown",
      "source": [
        "#불용어 제거"
      ],
      "metadata": {
        "id": "N951UxAKY5h6"
      }
    },
    {
      "cell_type": "markdown",
      "source": [
        "포터 알고리즘의 규칙\n",
        "1.ALIZE -AL\n",
        "2.ANCE- 제거\n",
        "3.ICAL -IC"
      ],
      "metadata": {
        "id": "Hp4hR9GFQ-Nj"
      }
    },
    {
      "cell_type": "code",
      "source": [
        "from nltk.stem import PorterStemmer\n",
        "from nltk.tokenize import word_tokenize\n",
        "\n",
        "\n",
        "stemmer = PorterStemmer()\n",
        "\n",
        "sentence= \"This was not the map we found in Billy Bones's chest, but an accurate copy, complete in all things--names and heights and soundings--with the single exception of the red crosses and the written notes.\"\n",
        "tokenized_sentence =  word_tokenize(sentence)\n",
        "\n",
        "print(\"어간 추출 전 : \",tokenized_sentence)\n",
        "print(\"어간 추출 후 : \",[stemmer.stem(word)for word in tokenized_sentence])"
      ],
      "metadata": {
        "colab": {
          "base_uri": "https://localhost:8080/"
        },
        "id": "gcDWD8E3QPf_",
        "outputId": "5c2c091a-3ae2-415e-e0d9-e328159becce"
      },
      "execution_count": null,
      "outputs": [
        {
          "output_type": "stream",
          "name": "stdout",
          "text": [
            "어간 추출 전 :  ['This', 'was', 'not', 'the', 'map', 'we', 'found', 'in', 'Billy', 'Bones', \"'s\", 'chest', ',', 'but', 'an', 'accurate', 'copy', ',', 'complete', 'in', 'all', 'things', '--', 'names', 'and', 'heights', 'and', 'soundings', '--', 'with', 'the', 'single', 'exception', 'of', 'the', 'red', 'crosses', 'and', 'the', 'written', 'notes', '.']\n",
            "어간 추출 후 :  ['thi', 'wa', 'not', 'the', 'map', 'we', 'found', 'in', 'billi', 'bone', \"'s\", 'chest', ',', 'but', 'an', 'accur', 'copi', ',', 'complet', 'in', 'all', 'thing', '--', 'name', 'and', 'height', 'and', 'sound', '--', 'with', 'the', 'singl', 'except', 'of', 'the', 'red', 'cross', 'and', 'the', 'written', 'note', '.']\n"
          ]
        }
      ]
    },
    {
      "cell_type": "code",
      "source": [
        "from nltk.stem import PorterStemmer\n",
        "from nltk.stem import LancasterStemmer\n",
        "\n",
        "stemmer1 = PorterStemmer()\n",
        "stemmer2 = LancasterStemmer()\n",
        "\n",
        "words=['policy','doing','organization','have','going','love','lives','fly','dies','has']\n",
        "\n",
        "print(\"어간 추출 전 : \",words)\n",
        "print(\"포터 스태머 사용 : \",[stemmer1.stem(w)for w in words])\n",
        "print(\"랭커스트 스태머 사용 : \",[stemmer2.stem(w)for w in words])"
      ],
      "metadata": {
        "colab": {
          "base_uri": "https://localhost:8080/"
        },
        "id": "ZNZQOs7pQ3Bg",
        "outputId": "a025b428-5eb1-4ef4-cca8-04b753aee2f9"
      },
      "execution_count": null,
      "outputs": [
        {
          "output_type": "stream",
          "name": "stdout",
          "text": [
            "어간 추출 전 :  ['policy', 'doing', 'organization', 'have', 'going', 'love', 'lives', 'fly', 'dies', 'has']\n",
            "포터 스태머 사용 :  ['polici', 'do', 'organ', 'have', 'go', 'love', 'live', 'fli', 'die', 'ha']\n",
            "랭커스트 스태머 사용 :  ['policy', 'doing', 'org', 'hav', 'going', 'lov', 'liv', 'fly', 'die', 'has']\n"
          ]
        }
      ]
    },
    {
      "cell_type": "code",
      "source": [
        "import nltk\n",
        "nltk.download('stopwords')"
      ],
      "metadata": {
        "colab": {
          "base_uri": "https://localhost:8080/"
        },
        "id": "EsDboO46Sxxd",
        "outputId": "9e752957-922a-4973-e70a-669b74971460"
      },
      "execution_count": null,
      "outputs": [
        {
          "output_type": "stream",
          "name": "stderr",
          "text": [
            "[nltk_data] Downloading package stopwords to /root/nltk_data...\n",
            "[nltk_data]   Unzipping corpora/stopwords.zip.\n"
          ]
        },
        {
          "output_type": "execute_result",
          "data": {
            "text/plain": [
              "True"
            ]
          },
          "metadata": {},
          "execution_count": 36
        }
      ]
    },
    {
      "cell_type": "code",
      "source": [
        "from nltk.corpus import stopwords\n",
        "from nltk.tokenize import word_tokenize\n",
        "from konlpy.tag import Okt\n",
        "\n",
        "stop_words_list=stopwords.words('english')\n",
        "print(\"불용어 개수 : \", len(stop_words_list))\n",
        "print(\"불용어 10개 출력 \",stop_words_list[:10])"
      ],
      "metadata": {
        "colab": {
          "base_uri": "https://localhost:8080/"
        },
        "id": "geXAj1GpUD1y",
        "outputId": "a6b3a3cc-40fd-486f-8a35-68d8ccd42723"
      },
      "execution_count": null,
      "outputs": [
        {
          "output_type": "stream",
          "name": "stdout",
          "text": [
            "불용어 개수 :  179\n",
            "불용어 10개 출력  ['i', 'me', 'my', 'myself', 'we', 'our', 'ours', 'ourselves', 'you', \"you're\"]\n"
          ]
        }
      ]
    },
    {
      "cell_type": "code",
      "source": [
        "from nltk.corpus import stopwords\n",
        "from nltk.tokenize import word_tokenize\n",
        "\n",
        "sentence = \"Family is not an important thing It's everything.\"\n",
        "stop_words=set(stopwords.words('english'))\n",
        "\n",
        "word_tokens = word_tokenize(sentence)\n",
        "\n",
        "result=[]\n",
        "for w in word_tokens:\n",
        "  if w in stop_words:\n",
        "    result.append(w)\n",
        "\n",
        "print(\"불용어 제거 전 : \",word_tokens)\n",
        "print(\"불용어 제거 후 : \",result)\n"
      ],
      "metadata": {
        "colab": {
          "base_uri": "https://localhost:8080/"
        },
        "id": "0XSHVN_LUb55",
        "outputId": "7c920544-6615-4abb-b7fc-d5a1dd891f52"
      },
      "execution_count": null,
      "outputs": [
        {
          "output_type": "stream",
          "name": "stdout",
          "text": [
            "불용어 제거 전 :  ['Family', 'is', 'not', 'an', 'important', 'thing', 'It', \"'s\", 'everything', '.']\n",
            "불용어 제거 후 :  ['is', 'not', 'an']\n"
          ]
        }
      ]
    },
    {
      "cell_type": "code",
      "source": [
        "from konlpy.tag import Okt\n",
        "\n",
        "okt = Okt()\n",
        "\n",
        "sentence = \"고기를 맘대로 굽지마. 고기 굽는 방법은 종류마다 다르고 시간도 다르다고!\"\n",
        "stop_words = \"맘대로 방법은 다르고\"\n",
        "\n",
        "stop_words = set(stop_words.split())\n",
        "word_tokens = okt.morphs(sentence)\n",
        "\n",
        "result = [word for word in word_tokens if not word in stop_words]\n",
        "\n",
        "print(\"불용어 제거 전 : \",(word_tokens))\n",
        "print(\"불용어 제거 후 : \",(result))"
      ],
      "metadata": {
        "colab": {
          "base_uri": "https://localhost:8080/"
        },
        "id": "Y6fVGjVvV3of",
        "outputId": "425253c3-4a28-4c3f-e17b-1057fba03f19"
      },
      "execution_count": null,
      "outputs": [
        {
          "output_type": "stream",
          "name": "stdout",
          "text": [
            "불용어 제거 전 :  ['고기', '를', '맘대로', '굽지마', '.', '고기', '굽는', '방법', '은', '종류', '마다', '다르고', '시간', '도', '다르다고', '!']\n",
            "불용어 제거 후 :  ['고기', '를', '굽지마', '.', '고기', '굽는', '방법', '은', '종류', '마다', '시간', '도', '다르다고', '!']\n"
          ]
        }
      ]
    },
    {
      "cell_type": "markdown",
      "source": [
        "#정수 인코딩"
      ],
      "metadata": {
        "id": "mZkehBVSY06I"
      }
    },
    {
      "cell_type": "code",
      "source": [
        "import nltk\n",
        "nltk.download('punkt')\n",
        "from nltk.tokenize import sent_tokenize\n",
        "from nltk.tokenize import word_tokenize\n",
        "from nltk.corpus import stopwords\n",
        "\n",
        "raw_text = \"A barber is a person. a barber is good person. a barber is huge person. he Knew A Secret! The Secret He Kept is huge secret. Huge secret. His barber kept his word. a barber kept his word. His barber kept his secret. But keeping and keeping such a huge secret to himself was driving the barber crazy. the barber went up a huge mountain.\"\n",
        "\n",
        "#문장 토큰화\n",
        "sentences= sent_tokenize(raw_text)\n",
        "\n",
        "print(sentences)"
      ],
      "metadata": {
        "colab": {
          "base_uri": "https://localhost:8080/"
        },
        "id": "tchQpceMY2KK",
        "outputId": "bd891cc5-a049-47b1-d549-e9aceab336ce"
      },
      "execution_count": 32,
      "outputs": [
        {
          "output_type": "stream",
          "name": "stdout",
          "text": [
            "['A barber is a person.', 'a barber is good person.', 'a barber is huge person.', 'he Knew A Secret!', 'The Secret He Kept is huge secret.', 'Huge secret.', 'His barber kept his word.', 'a barber kept his word.', 'His barber kept his secret.', 'But keeping and keeping such a huge secret to himself was driving the barber crazy.', 'the barber went up a huge mountain.']\n"
          ]
        },
        {
          "output_type": "stream",
          "name": "stderr",
          "text": [
            "[nltk_data] Downloading package punkt to /root/nltk_data...\n",
            "[nltk_data]   Package punkt is already up-to-date!\n"
          ]
        }
      ]
    },
    {
      "cell_type": "code",
      "source": [
        "import nltk\n",
        "nltk.download('stopwords')\n",
        "vocab = {}\n",
        "preprocessed_sentences=[]\n",
        "stop_words = set(stopwords.words('english'))\n",
        "\n",
        "for sentence in sentences:\n",
        "  #단어 토큰화\n",
        "  tokenized_sentence = word_tokenize(sentence)\n",
        "  result = []\n",
        "  for word in tokenized_sentence:\n",
        "    word = word.lower() #모든 단어를 소문자화하여 단어의 개수를 줄인다\n",
        "    if word not in stop_words: #단어 토큰화 된 결과에 대해 불용어 제거\n",
        "      if len(word) > 2: #단어 길이가 2 이하인 경우에 대하여 추가로 단어로 제거한다.\n",
        "        result.append(word)\n",
        "        if word not in vocab:\n",
        "          vocab[word] = 0\n",
        "        vocab[word] += 1\n",
        "  preprocessed_sentences.append(result)\n",
        "print(preprocessed_sentences)\n",
        "print(\"_____________________________________________________________________________________________________________________________________________________________________________\\n\")\n",
        "\n",
        "print(vocab)\n"
      ],
      "metadata": {
        "colab": {
          "base_uri": "https://localhost:8080/"
        },
        "id": "obMbGbqoZrSP",
        "outputId": "cd9032ba-5b33-4568-f5cd-d0684499dd93"
      },
      "execution_count": null,
      "outputs": [
        {
          "output_type": "stream",
          "name": "stdout",
          "text": [
            "[['barber', 'person'], ['barber', 'good', 'person'], ['barber', 'huge', 'person'], ['knew', 'secret'], ['secret', 'kept', 'huge', 'secret'], ['huge', 'secret'], ['barber', 'kept', 'word'], ['barber', 'kept', 'word'], ['barber', 'kept', 'secret'], ['keeping', 'keeping', 'huge', 'secret', 'driving', 'barber', 'crazy'], ['barber', 'went', 'huge', 'mountain']]\n",
            "_____________________________________________________________________________________________________________________________________________________________________________\n",
            "\n",
            "{'barber': 8, 'person': 3, 'good': 1, 'huge': 5, 'knew': 1, 'secret': 6, 'kept': 4, 'word': 2, 'keeping': 2, 'driving': 1, 'crazy': 1, 'went': 1, 'mountain': 1}\n"
          ]
        },
        {
          "output_type": "stream",
          "name": "stderr",
          "text": [
            "[nltk_data] Downloading package stopwords to /root/nltk_data...\n",
            "[nltk_data]   Package stopwords is already up-to-date!\n"
          ]
        }
      ]
    },
    {
      "cell_type": "markdown",
      "source": [
        "빈도수가 높은 순서대로 sorted를 이용해서 정렬"
      ],
      "metadata": {
        "id": "Br8G8El3YrxI"
      }
    },
    {
      "cell_type": "code",
      "source": [
        "vocab_sorted = sorted(vocab.items(), key = lambda x:x[1],reverse=True)\n",
        "print(vocab_sorted)"
      ],
      "metadata": {
        "colab": {
          "base_uri": "https://localhost:8080/"
        },
        "id": "-2qLY3N8Y6Ae",
        "outputId": "dfb6b21b-22df-4549-d06f-179c4b7c577c"
      },
      "execution_count": null,
      "outputs": [
        {
          "output_type": "stream",
          "name": "stdout",
          "text": [
            "[('barber', 8), ('secret', 6), ('huge', 5), ('kept', 4), ('person', 3), ('word', 2), ('keeping', 2), ('good', 1), ('knew', 1), ('driving', 1), ('crazy', 1), ('went', 1), ('mountain', 1)]\n"
          ]
        }
      ]
    },
    {
      "cell_type": "markdown",
      "source": [
        "높은 빈도수를 가진 단어일수록 낮은 정수를 부여한다. 정수는 1부터 부여한다."
      ],
      "metadata": {
        "id": "Lm4ss-V4aFnA"
      }
    },
    {
      "cell_type": "code",
      "source": [
        "word_to_index ={}\n",
        "i=0\n",
        "for(word,frequency)in vocab_sorted:\n",
        "  if frequency > 1: #빈도수가 작은 수는 제외\n",
        "    i = i + 1\n",
        "    word_to_index[word]=i\n",
        "\n",
        "print(word_to_index)"
      ],
      "metadata": {
        "colab": {
          "base_uri": "https://localhost:8080/"
        },
        "id": "bkd3KhO5aKYa",
        "outputId": "6fe8269a-ab7c-45ca-b170-a86026ab9cb0"
      },
      "execution_count": null,
      "outputs": [
        {
          "output_type": "stream",
          "name": "stdout",
          "text": [
            "{'barber': 1, 'secret': 2, 'huge': 3, 'kept': 4, 'person': 5, 'word': 6, 'keeping': 7}\n"
          ]
        }
      ]
    },
    {
      "cell_type": "markdown",
      "source": [
        "단어 집합에 존재하지 않는 단어들을 ovv(out-of-vocabulary)라고 해준다"
      ],
      "metadata": {
        "id": "TVUCYHRrbulM"
      }
    },
    {
      "cell_type": "code",
      "source": [
        "word_to_index['OOV']=len(word_to_index) +1\n",
        "print(word_to_index)"
      ],
      "metadata": {
        "colab": {
          "base_uri": "https://localhost:8080/"
        },
        "id": "wmTyI-seb9vv",
        "outputId": "ae720a13-41ed-47ec-9299-df19dcb8002b"
      },
      "execution_count": null,
      "outputs": [
        {
          "output_type": "stream",
          "name": "stdout",
          "text": [
            "{'barber': 1, 'secret': 2, 'huge': 3, 'kept': 4, 'person': 5, 'word': 6, 'keeping': 7, 'OOV': 8}\n"
          ]
        }
      ]
    },
    {
      "cell_type": "markdown",
      "source": [
        "정수로 인코딩 하기"
      ],
      "metadata": {
        "id": "K_kg2az1cIQg"
      }
    },
    {
      "cell_type": "code",
      "source": [
        "encoded_sentences = []\n",
        "for sentence in preprocessed_sentences:\n",
        "  encoded_sentence = []\n",
        "  for word in sentence:\n",
        "    try:\n",
        "      #단어 집합에 있는 단어라면 해당 단어의 정수를 리턴.\n",
        "      encoded_sentence.append(word_to_index[word])\n",
        "    except KeyError:\n",
        "      #만약 집합에 없는 단어라면 'oov'를 리턴\n",
        "      encoded_sentence.append(word_to_index['OOV'])\n",
        "  encoded_sentences.append(encoded_sentence)\n",
        "print(encoded_sentences)"
      ],
      "metadata": {
        "colab": {
          "base_uri": "https://localhost:8080/"
        },
        "id": "JWbiKGevcJ4n",
        "outputId": "531ebea8-757f-4451-e233-9e7d04708bd4"
      },
      "execution_count": null,
      "outputs": [
        {
          "output_type": "stream",
          "name": "stdout",
          "text": [
            "[[1, 5], [1, 8, 5], [1, 3, 5], [8, 2], [2, 4, 3, 2], [3, 2], [1, 4, 6], [1, 4, 6], [1, 4, 2], [7, 7, 3, 2, 8, 1, 8], [1, 8, 3, 8]]\n"
          ]
        }
      ]
    },
    {
      "cell_type": "markdown",
      "source": [
        "Counter 사용하기"
      ],
      "metadata": {
        "id": "nJ7tYdCIrDwt"
      }
    },
    {
      "cell_type": "code",
      "source": [
        "from collections import Counter\n",
        "print(preprocessed_sentences)"
      ],
      "metadata": {
        "colab": {
          "base_uri": "https://localhost:8080/"
        },
        "id": "XngAkgqnrGP6",
        "outputId": "9e066461-2146-4d02-a3ed-39223bfe85d1"
      },
      "execution_count": 34,
      "outputs": [
        {
          "output_type": "stream",
          "name": "stdout",
          "text": [
            "[['barber', 'person'], ['barber', 'good', 'person'], ['barber', 'huge', 'person'], ['knew', 'secret'], ['secret', 'kept', 'huge', 'secret'], ['huge', 'secret'], ['barber', 'kept', 'word'], ['barber', 'kept', 'word'], ['barber', 'kept', 'secret'], ['keeping', 'keeping', 'huge', 'secret', 'driving', 'barber', 'crazy'], ['barber', 'went', 'huge', 'mountain']]\n"
          ]
        }
      ]
    },
    {
      "cell_type": "markdown",
      "source": [
        "단어집합을 만들기 위해서 단어를 나눠 놓은[]를 제거하고 단어들을 하나의 리스트로 만든다."
      ],
      "metadata": {
        "id": "7YhRRi-CrTJu"
      }
    },
    {
      "cell_type": "code",
      "source": [
        "all_words_list=sum(preprocessed_sentences,[])\n",
        "print(all_words_list)"
      ],
      "metadata": {
        "colab": {
          "base_uri": "https://localhost:8080/"
        },
        "id": "3KgG1i3uragb",
        "outputId": "624ee9c2-d13c-435b-a6e6-d7f554507a4b"
      },
      "execution_count": 35,
      "outputs": [
        {
          "output_type": "stream",
          "name": "stdout",
          "text": [
            "['barber', 'person', 'barber', 'good', 'person', 'barber', 'huge', 'person', 'knew', 'secret', 'secret', 'kept', 'huge', 'secret', 'huge', 'secret', 'barber', 'kept', 'word', 'barber', 'kept', 'word', 'barber', 'kept', 'secret', 'keeping', 'keeping', 'huge', 'secret', 'driving', 'barber', 'crazy', 'barber', 'went', 'huge', 'mountain']\n"
          ]
        }
      ]
    },
    {
      "cell_type": "markdown",
      "source": [
        "파이썬의 Counter()입력하여 중복을 제거하고 단어의 빈도수를 기록"
      ],
      "metadata": {
        "id": "5klbFOPZrr5N"
      }
    },
    {
      "cell_type": "code",
      "source": [
        "vocab=Counter(all_words_list)\n",
        "print(vocab)"
      ],
      "metadata": {
        "colab": {
          "base_uri": "https://localhost:8080/"
        },
        "id": "-REZ8XyyrwuN",
        "outputId": "90eb65b4-191e-4b94-82e4-32b34ade0dbd"
      },
      "execution_count": 36,
      "outputs": [
        {
          "output_type": "stream",
          "name": "stdout",
          "text": [
            "Counter({'barber': 8, 'secret': 6, 'huge': 5, 'kept': 4, 'person': 3, 'word': 2, 'keeping': 2, 'good': 1, 'knew': 1, 'driving': 1, 'crazy': 1, 'went': 1, 'mountain': 1})\n"
          ]
        }
      ]
    },
    {
      "cell_type": "markdown",
      "source": [
        "most_common()을 이용해 상위 빈도수를 가진 단어만 리턴"
      ],
      "metadata": {
        "id": "-eB5NeyTr7wJ"
      }
    },
    {
      "cell_type": "code",
      "source": [
        "vocab_size=5\n",
        "vocab=vocab.most_common(vocab_size)\n",
        "vocab"
      ],
      "metadata": {
        "colab": {
          "base_uri": "https://localhost:8080/"
        },
        "id": "fkY3W6O4r_me",
        "outputId": "d74b4362-71bb-4f31-bf53-6676c2891cf9"
      },
      "execution_count": 37,
      "outputs": [
        {
          "output_type": "execute_result",
          "data": {
            "text/plain": [
              "[('barber', 8), ('secret', 6), ('huge', 5), ('kept', 4), ('person', 3)]"
            ]
          },
          "metadata": {},
          "execution_count": 37
        }
      ]
    },
    {
      "cell_type": "markdown",
      "source": [
        "높은 빈도수를 가진 단어일수록 낮은 정수 인덱스를 부여한다."
      ],
      "metadata": {
        "id": "Hb1Qfz27sLBN"
      }
    },
    {
      "cell_type": "code",
      "source": [
        "word_to_index = {}\n",
        "i=0\n",
        "for(word,frequecy)in vocab:\n",
        "  i = i+1\n",
        "  word_to_index[word]=i\n",
        "\n",
        "print(word_to_index)\n"
      ],
      "metadata": {
        "colab": {
          "base_uri": "https://localhost:8080/"
        },
        "id": "68Oa-pPjsPBA",
        "outputId": "98730353-057d-497e-dcc3-f8e09142caa5"
      },
      "execution_count": 39,
      "outputs": [
        {
          "output_type": "stream",
          "name": "stdout",
          "text": [
            "{'barber': 1, 'secret': 2, 'huge': 3, 'kept': 4, 'person': 5}\n"
          ]
        }
      ]
    },
    {
      "cell_type": "markdown",
      "source": [
        "NLTK의 FreqDist사용하기"
      ],
      "metadata": {
        "id": "EDCLowJsvNBr"
      }
    },
    {
      "cell_type": "code",
      "source": [
        "from nltk import FreqDist\n",
        "import numpy as np\n",
        "#np.hstack으로 문장구분을 제거\n",
        "vocab=FreqDist(np.hstack(preprocessed_sentences))\n",
        "print(vocab[\"barber\"] )"
      ],
      "metadata": {
        "colab": {
          "base_uri": "https://localhost:8080/"
        },
        "id": "TBNBABJ_vQYg",
        "outputId": "7ee7ed1b-8f96-4fc4-f5e2-211cca23c07f"
      },
      "execution_count": 41,
      "outputs": [
        {
          "output_type": "stream",
          "name": "stdout",
          "text": [
            "8\n"
          ]
        }
      ]
    },
    {
      "cell_type": "code",
      "source": [
        "vocab_size = 5\n",
        "vocab=vocab.most_common(vocab_size)\n",
        "print(vocab)"
      ],
      "metadata": {
        "colab": {
          "base_uri": "https://localhost:8080/"
        },
        "id": "q1W4f8p8vk4y",
        "outputId": "f5c69c9f-7545-4070-9146-c02f3fcccb3a"
      },
      "execution_count": 42,
      "outputs": [
        {
          "output_type": "stream",
          "name": "stdout",
          "text": [
            "[('barber', 8), ('secret', 6), ('huge', 5), ('kept', 4), ('person', 3)]\n"
          ]
        }
      ]
    },
    {
      "cell_type": "code",
      "source": [
        "word_to_index= {word[0]:index +1 for index,word in enumerate(vocab)}\n",
        "print(word_to_index)"
      ],
      "metadata": {
        "colab": {
          "base_uri": "https://localhost:8080/"
        },
        "id": "mx46MKvcvuM7",
        "outputId": "4a8edaa8-4fe3-49c4-9947-beef732e974c"
      },
      "execution_count": 45,
      "outputs": [
        {
          "output_type": "stream",
          "name": "stdout",
          "text": [
            "{'barber': 1, 'secret': 2, 'huge': 3, 'kept': 4, 'person': 5}\n"
          ]
        }
      ]
    },
    {
      "cell_type": "markdown",
      "source": [
        "케라스의 텍스트 전처리"
      ],
      "metadata": {
        "id": "5yRRS6XdwPkC"
      }
    },
    {
      "cell_type": "code",
      "source": [
        "from tensorflow.keras.preprocessing.text import Tokenizer\n",
        "\n",
        "preprocessed_sentences=[['barber', 'person'], ['barber', 'good', 'person'], ['barber', 'huge', 'person'], ['knew', 'secret'], ['secret', 'kept', 'huge', 'secret'], ['huge', 'secret'], ['barber', 'kept', 'word'], ['barber', 'kept', 'word'], ['barber', 'kept', 'secret'], ['keeping', 'keeping', 'huge', 'secret', 'driving', 'barber', 'crazy'], ['barber', 'went', 'huge', 'mountain']]\n",
        "\n",
        "tokenizer = Tokenizer()\n",
        "\n",
        "#fit_on_texts()안에 코퍼스를 입력으로 하면 빈도수를 기준으로 단어 집합을 생성한다.\n",
        "tokenizer.fit_on_texts(preprocessed_sentences)\n",
        "\n",
        "print(tokenizer.word_index)"
      ],
      "metadata": {
        "colab": {
          "base_uri": "https://localhost:8080/"
        },
        "id": "s075u9XXwjhg",
        "outputId": "36974978-2334-4e8d-acd3-75bbe6f113c9"
      },
      "execution_count": 48,
      "outputs": [
        {
          "output_type": "stream",
          "name": "stdout",
          "text": [
            "{'barber': 1, 'secret': 2, 'huge': 3, 'kept': 4, 'person': 5, 'word': 6, 'keeping': 7, 'good': 8, 'knew': 9, 'driving': 10, 'crazy': 11, 'went': 12, 'mountain': 13}\n"
          ]
        }
      ]
    },
    {
      "cell_type": "code",
      "source": [
        "print(tokenizer.word_counts)"
      ],
      "metadata": {
        "colab": {
          "base_uri": "https://localhost:8080/"
        },
        "id": "jfyZJmZFwrjJ",
        "outputId": "d33b9756-c79d-4ae4-8e30-f2b0fab3b731"
      },
      "execution_count": 49,
      "outputs": [
        {
          "output_type": "stream",
          "name": "stdout",
          "text": [
            "OrderedDict([('barber', 8), ('person', 3), ('good', 1), ('huge', 5), ('knew', 1), ('secret', 6), ('kept', 4), ('word', 2), ('keeping', 2), ('driving', 1), ('crazy', 1), ('went', 1), ('mountain', 1)])\n"
          ]
        }
      ]
    },
    {
      "cell_type": "markdown",
      "source": [
        "texts_to_sequences()는 입력으로 들어온 코퍼스에 대해서 각 단어를 이미 정해진 인덱스로 변환한다."
      ],
      "metadata": {
        "id": "J2eC_DxLxVBH"
      }
    },
    {
      "cell_type": "code",
      "source": [
        "print(tokenizer.texts_to_sequences(preprocessed_sentences))"
      ],
      "metadata": {
        "colab": {
          "base_uri": "https://localhost:8080/"
        },
        "id": "5FLPoTvuxcjP",
        "outputId": "de4153c2-13b6-46d7-8d62-1d60478f7421"
      },
      "execution_count": 52,
      "outputs": [
        {
          "output_type": "stream",
          "name": "stdout",
          "text": [
            "[[1, 5], [1, 8, 5], [1, 3, 5], [9, 2], [2, 4, 3, 2], [3, 2], [1, 4, 6], [1, 4, 6], [1, 4, 2], [7, 7, 3, 2, 10, 1, 11], [1, 12, 3, 13]]\n"
          ]
        }
      ]
    },
    {
      "cell_type": "markdown",
      "source": [
        "케라스 토크나이저에서 tokenizer=Tokenizer(num_words=숫자) == Count에서 most_common"
      ],
      "metadata": {
        "id": "WoSH0ee1xvR3"
      }
    },
    {
      "cell_type": "code",
      "source": [
        "vocab_size = 5\n",
        "tokenizer=Tokenizer(num_words=vocab_size +1) #상위 단어 5개만 사용 +1을 해주는 이유는 num_words는 숫자 0부터 카운트하기 때문 0~4가아닌 1~5를 이용하고 싶기 때문\n",
        "tokenizer.fit_on_texts(preprocessed_sentences)\n",
        "\n",
        "print(tokenizer.word_index)\n",
        "print(tokenizer.word_counts)\n",
        "print(tokenizer.texts_to_sequences(preprocessed_sentences))"
      ],
      "metadata": {
        "colab": {
          "base_uri": "https://localhost:8080/"
        },
        "id": "5IP4CBCIx7_c",
        "outputId": "02532833-06a5-4e3d-ffc2-1e01522b07e1"
      },
      "execution_count": 58,
      "outputs": [
        {
          "output_type": "stream",
          "name": "stdout",
          "text": [
            "{'barber': 1, 'secret': 2, 'huge': 3, 'kept': 4, 'person': 5, 'word': 6, 'keeping': 7, 'good': 8, 'knew': 9, 'driving': 10, 'crazy': 11, 'went': 12, 'mountain': 13}\n",
            "OrderedDict([('barber', 8), ('person', 3), ('good', 1), ('huge', 5), ('knew', 1), ('secret', 6), ('kept', 4), ('word', 2), ('keeping', 2), ('driving', 1), ('crazy', 1), ('went', 1), ('mountain', 1)])\n",
            "[[1, 5], [1, 5], [1, 3, 5], [2], [2, 4, 3, 2], [3, 2], [1, 4], [1, 4], [1, 4, 2], [3, 2, 1], [1, 3]]\n"
          ]
        }
      ]
    },
    {
      "cell_type": "markdown",
      "source": [
        "케라스 토크나이저는 단어집합에 없는 단어인 oov에 대해서는 단어를 정수로 바꾸는 과정에서 아예 단어를 제거한다는 특징이 있다.\n",
        "단어 집합에 없는 단어들은 oov로 간주하여 보존할려면 Tokenizer의 인자 oov_token 을 사용해야함"
      ],
      "metadata": {
        "id": "WYYSz4Gky25z"
      }
    },
    {
      "cell_type": "code",
      "source": [
        "vocab_size = 5\n",
        "tokenizer=Tokenizer(num_words=vocab_size +2,oov_token='OOV')\n",
        "tokenizer.fit_on_texts(preprocessed_sentences)\n",
        "print('단어 OOV의 인덱스 {}',format(tokenizer.word_index['OOV']))\n",
        "\n",
        "print(tokenizer.texts_to_sequences(preprocessed_sentences))"
      ],
      "metadata": {
        "colab": {
          "base_uri": "https://localhost:8080/"
        },
        "id": "BPXjaq-jzHU3",
        "outputId": "3d8ef862-a11c-4386-a1c5-8ee544703cb7"
      },
      "execution_count": 62,
      "outputs": [
        {
          "output_type": "stream",
          "name": "stdout",
          "text": [
            "단어 OOV의 인덱스 {} 1\n",
            "[[2, 6], [2, 1, 6], [2, 4, 6], [1, 3], [3, 5, 4, 3], [4, 3], [2, 5, 1], [2, 5, 1], [2, 5, 3], [1, 1, 4, 3, 1, 2, 1], [2, 1, 4, 1]]\n"
          ]
        }
      ]
    },
    {
      "cell_type": "markdown",
      "source": [
        "단어 집합이 없는 것들은 1로 인코딩 한 걸 알 수 있다."
      ],
      "metadata": {
        "id": "287mQqePz6HK"
      }
    },
    {
      "cell_type": "markdown",
      "source": [
        "#Padding"
      ],
      "metadata": {
        "id": "VkgsiHtB5Tck"
      }
    },
    {
      "cell_type": "markdown",
      "source": [
        "1.numpy로 패딩하기"
      ],
      "metadata": {
        "id": "6tQZxp235XFi"
      }
    },
    {
      "cell_type": "code",
      "source": [],
      "metadata": {
        "id": "Re0r6Yk1ESUT"
      },
      "execution_count": null,
      "outputs": []
    },
    {
      "cell_type": "markdown",
      "source": [
        "1. 단어의 집합을 생성하고 그 단어를  정수 인코딩 하기"
      ],
      "metadata": {
        "id": "iUBJ-uSv6Aia"
      }
    },
    {
      "cell_type": "code",
      "source": [
        "import numpy as np\n",
        "from tensorflow.keras.preprocessing.text import Tokenizer\n",
        "\n",
        "preprocessed_sentences=[['barber', 'person'], ['barber', 'good', 'person'], ['barber', 'huge', 'person'], ['knew', 'secret'], ['secret', 'kept', 'huge', 'secret'], ['huge', 'secret'], ['barber', 'kept', 'word'], ['barber', 'kept', 'word'], ['barber', 'kept', 'secret'], ['keeping', 'keeping', 'huge', 'secret', 'driving', 'barber', 'crazy'], ['barber', 'went', 'huge', 'mountain']]\n",
        "\n",
        "tokenizer = Tokenizer()\n",
        "tokenizer.fit_on_texts(preprocessed_sentences)\n",
        "encoded = tokenizer.texts_to_sequences(preprocessed_sentences)\n",
        "print(encoded)"
      ],
      "metadata": {
        "colab": {
          "base_uri": "https://localhost:8080/"
        },
        "id": "47Uw5VDl5Y-B",
        "outputId": "3ce0f57d-92be-431d-cf5a-bda3b8a0b104"
      },
      "execution_count": 64,
      "outputs": [
        {
          "output_type": "stream",
          "name": "stdout",
          "text": [
            "[[1, 5], [1, 8, 5], [1, 3, 5], [9, 2], [2, 4, 3, 2], [3, 2], [1, 4, 6], [1, 4, 6], [1, 4, 2], [7, 7, 3, 2, 10, 1, 11], [1, 12, 3, 13]]\n"
          ]
        }
      ]
    },
    {
      "cell_type": "markdown",
      "source": [
        "2.모두 동일한 길이로 맞춰주기 위해서 길이가 가장 긴 문장의 길이를 계산"
      ],
      "metadata": {
        "id": "RKJcsEKu6Nkz"
      }
    },
    {
      "cell_type": "code",
      "source": [
        "max_len = max(len(item)for item in encoded)\n",
        "print(\"최대 길이 : \",max_len)"
      ],
      "metadata": {
        "colab": {
          "base_uri": "https://localhost:8080/"
        },
        "id": "a96T7tVo6ULQ",
        "outputId": "9280e41c-a5ca-4d57-888b-f610c80c1fe5"
      },
      "execution_count": 69,
      "outputs": [
        {
          "output_type": "stream",
          "name": "stdout",
          "text": [
            "최대 길이 :  7\n"
          ]
        }
      ]
    },
    {
      "cell_type": "markdown",
      "source": [
        "모든 문장의 길이를 7로 맞춘다."
      ],
      "metadata": {
        "id": "erUfngZR-X2B"
      }
    },
    {
      "cell_type": "code",
      "source": [
        "for sentence in encoded:\n",
        "  while len(sentence) < max_len:\n",
        "    sentence.append(0)  # 7개를 채우기 위해서 빈칸에는 0을 넣는다.\n",
        "\n",
        "padded_np=np.array(encoded)\n",
        "padded_np"
      ],
      "metadata": {
        "colab": {
          "base_uri": "https://localhost:8080/"
        },
        "id": "KlPM5VXM-bh5",
        "outputId": "193ab823-5ecc-4ac9-b118-4eed13f2a0d9"
      },
      "execution_count": 74,
      "outputs": [
        {
          "output_type": "execute_result",
          "data": {
            "text/plain": [
              "array([[ 1,  5,  0,  0,  0,  0,  0],\n",
              "       [ 1,  8,  5,  0,  0,  0,  0],\n",
              "       [ 1,  3,  5,  0,  0,  0,  0],\n",
              "       [ 9,  2,  0,  0,  0,  0,  0],\n",
              "       [ 2,  4,  3,  2,  0,  0,  0],\n",
              "       [ 3,  2,  0,  0,  0,  0,  0],\n",
              "       [ 1,  4,  6,  0,  0,  0,  0],\n",
              "       [ 1,  4,  6,  0,  0,  0,  0],\n",
              "       [ 1,  4,  2,  0,  0,  0,  0],\n",
              "       [ 7,  7,  3,  2, 10,  1, 11],\n",
              "       [ 1, 12,  3, 13,  0,  0,  0]])"
            ]
          },
          "metadata": {},
          "execution_count": 74
        }
      ]
    },
    {
      "cell_type": "markdown",
      "source": [
        "빈칸을 0으로 채웠는데 이를 ZeroPadding이라고 한다."
      ],
      "metadata": {
        "id": "_xq1lt_X-85M"
      }
    },
    {
      "cell_type": "markdown",
      "source": [
        "#케라스 전처리 도구로 패딩하기"
      ],
      "metadata": {
        "id": "_Ur1qHIsAGIc"
      }
    },
    {
      "cell_type": "markdown",
      "source": [
        "케라스에서는 패딩을 위해 pad_sequences를 지원하고 있다.\n"
      ],
      "metadata": {
        "id": "Mij9vir9BjM6"
      }
    },
    {
      "cell_type": "code",
      "source": [
        "from tensorflow.keras.preprocessing.sequence import pad_sequences\n",
        "\n",
        "encoded = tokenizer.texts_to_sequences(preprocessed_sentences) # 다시 패딩 전 결과로 되돌리기\n",
        "print(encoded)"
      ],
      "metadata": {
        "colab": {
          "base_uri": "https://localhost:8080/"
        },
        "id": "Me1Obi22AIhW",
        "outputId": "511d0e02-0aca-4f02-a51a-0be02cfa7c12"
      },
      "execution_count": 75,
      "outputs": [
        {
          "output_type": "stream",
          "name": "stdout",
          "text": [
            "[[1, 5], [1, 8, 5], [1, 3, 5], [9, 2], [2, 4, 3, 2], [3, 2], [1, 4, 6], [1, 4, 6], [1, 4, 2], [7, 7, 3, 2, 10, 1, 11], [1, 12, 3, 13]]\n"
          ]
        }
      ]
    },
    {
      "cell_type": "code",
      "source": [
        "padded = pad_sequences(encoded)\n",
        "padded"
      ],
      "metadata": {
        "colab": {
          "base_uri": "https://localhost:8080/"
        },
        "id": "5VOOeKhHBz7R",
        "outputId": "92438f68-f88c-4941-a42b-76239d5fc5a3"
      },
      "execution_count": 76,
      "outputs": [
        {
          "output_type": "execute_result",
          "data": {
            "text/plain": [
              "array([[ 0,  0,  0,  0,  0,  1,  5],\n",
              "       [ 0,  0,  0,  0,  1,  8,  5],\n",
              "       [ 0,  0,  0,  0,  1,  3,  5],\n",
              "       [ 0,  0,  0,  0,  0,  9,  2],\n",
              "       [ 0,  0,  0,  2,  4,  3,  2],\n",
              "       [ 0,  0,  0,  0,  0,  3,  2],\n",
              "       [ 0,  0,  0,  0,  1,  4,  6],\n",
              "       [ 0,  0,  0,  0,  1,  4,  6],\n",
              "       [ 0,  0,  0,  0,  1,  4,  2],\n",
              "       [ 7,  7,  3,  2, 10,  1, 11],\n",
              "       [ 0,  0,  0,  1, 12,  3, 13]], dtype=int32)"
            ]
          },
          "metadata": {},
          "execution_count": 76
        }
      ]
    },
    {
      "cell_type": "markdown",
      "source": [
        "numpy와는 다르게 pad_sequences는 기본적으로 문서의 앞에서 0을 채운다. 이때 뒤를 0으로 채우고 싶으면 ,padding='post'를 하면된다. "
      ],
      "metadata": {
        "id": "KN9Qo1UpCGHn"
      }
    },
    {
      "cell_type": "code",
      "source": [
        "padded = pad_sequences(encoded,padding='post')\n",
        "padded"
      ],
      "metadata": {
        "colab": {
          "base_uri": "https://localhost:8080/"
        },
        "id": "MIFTRFn9CTql",
        "outputId": "1c5c02f6-aa93-47bc-feba-631e1402b0bb"
      },
      "execution_count": 78,
      "outputs": [
        {
          "output_type": "execute_result",
          "data": {
            "text/plain": [
              "array([[ 1,  5,  0,  0,  0,  0,  0],\n",
              "       [ 1,  8,  5,  0,  0,  0,  0],\n",
              "       [ 1,  3,  5,  0,  0,  0,  0],\n",
              "       [ 9,  2,  0,  0,  0,  0,  0],\n",
              "       [ 2,  4,  3,  2,  0,  0,  0],\n",
              "       [ 3,  2,  0,  0,  0,  0,  0],\n",
              "       [ 1,  4,  6,  0,  0,  0,  0],\n",
              "       [ 1,  4,  6,  0,  0,  0,  0],\n",
              "       [ 1,  4,  2,  0,  0,  0,  0],\n",
              "       [ 7,  7,  3,  2, 10,  1, 11],\n",
              "       [ 1, 12,  3, 13,  0,  0,  0]], dtype=int32)"
            ]
          },
          "metadata": {},
          "execution_count": 78
        }
      ]
    },
    {
      "cell_type": "markdown",
      "source": [
        ",padding='post'를 하면 뒤에 0이 채워 지는 걸 볼 수 있다."
      ],
      "metadata": {
        "id": "JbdCTgbFCc-D"
      }
    },
    {
      "cell_type": "markdown",
      "source": [
        "maxlen인자로 정수를 주면, 해당 정수로 모든 문서의 길이를 동일하게 할 수 있다."
      ],
      "metadata": {
        "id": "1fp6-zqCCnQG"
      }
    },
    {
      "cell_type": "code",
      "source": [
        "padded = pad_sequences(encoded, padding = 'post', maxlen=5)\n",
        "padded"
      ],
      "metadata": {
        "colab": {
          "base_uri": "https://localhost:8080/"
        },
        "id": "M8msO-7ECtOc",
        "outputId": "021fb056-d640-41e5-d7fc-46cb7d3d1cff"
      },
      "execution_count": 79,
      "outputs": [
        {
          "output_type": "execute_result",
          "data": {
            "text/plain": [
              "array([[ 1,  5,  0,  0,  0],\n",
              "       [ 1,  8,  5,  0,  0],\n",
              "       [ 1,  3,  5,  0,  0],\n",
              "       [ 9,  2,  0,  0,  0],\n",
              "       [ 2,  4,  3,  2,  0],\n",
              "       [ 3,  2,  0,  0,  0],\n",
              "       [ 1,  4,  6,  0,  0],\n",
              "       [ 1,  4,  6,  0,  0],\n",
              "       [ 1,  4,  2,  0,  0],\n",
              "       [ 3,  2, 10,  1, 11],\n",
              "       [ 1, 12,  3, 13,  0]], dtype=int32)"
            ]
          },
          "metadata": {},
          "execution_count": 79
        }
      ]
    },
    {
      "cell_type": "markdown",
      "source": [
        "최대 길이를 5개로 출력하고 5보다 긴 정수는 데이터가 제거 된다는 걸 알아야한다.\n"
      ],
      "metadata": {
        "id": "-UV7-0MEC3lF"
      }
    },
    {
      "cell_type": "markdown",
      "source": [
        "#원-핫 인코딩(One-Hot Encoding)"
      ],
      "metadata": {
        "id": "UDBOmW7VH1jN"
      }
    },
    {
      "cell_type": "markdown",
      "source": [
        "한글 형태소 분석기 Okt를 사용하여 토큰화 수행"
      ],
      "metadata": {
        "id": "PpnjZg1hIAnx"
      }
    },
    {
      "cell_type": "code",
      "source": [
        "from konlpy.tag import Okt\n",
        "\n",
        "okt = Okt()\n",
        "tokens = okt.morphs(\"나는 자연어 처리를 학습한다\")\n",
        "print(tokens)"
      ],
      "metadata": {
        "colab": {
          "base_uri": "https://localhost:8080/"
        },
        "id": "9Tf-_cs6IE1J",
        "outputId": "4d4bdd01-aa23-458e-fa77-692432c8c6a6"
      },
      "execution_count": 86,
      "outputs": [
        {
          "output_type": "stream",
          "name": "stdout",
          "text": [
            "['나', '는', '자연어', '처리', '를', '학습', '한다']\n"
          ]
        }
      ]
    },
    {
      "cell_type": "markdown",
      "source": [
        "토큰에 고유한 정수를 부여"
      ],
      "metadata": {
        "id": "JNFLyW3MJKGJ"
      }
    },
    {
      "cell_type": "code",
      "source": [
        "word_to_index={word : index for index, word in enumerate(tokens)}\n",
        "print(\"단어 집합 : \",word_to_index)"
      ],
      "metadata": {
        "colab": {
          "base_uri": "https://localhost:8080/"
        },
        "id": "TIsZAfIZJNu7",
        "outputId": "4dd47a74-20fd-4068-8bfe-68f83eccc2e6"
      },
      "execution_count": 87,
      "outputs": [
        {
          "output_type": "stream",
          "name": "stdout",
          "text": [
            "단어 집합 :  {'나': 0, '는': 1, '자연어': 2, '처리': 3, '를': 4, '학습': 5, '한다': 6}\n"
          ]
        }
      ]
    },
    {
      "cell_type": "markdown",
      "source": [
        "원-핫 벡터를 만들어내는 함수"
      ],
      "metadata": {
        "id": "ZXn113mSJlyU"
      }
    },
    {
      "cell_type": "code",
      "source": [
        "def one_hot_encoding(word,word_to_index):\n",
        "  one_hot_vector = [0]*(len(word_to_index))\n",
        "  index = word_to_index[word]\n",
        "  one_hot_vector[index]=1\n",
        "  return one_hot_vector"
      ],
      "metadata": {
        "id": "MbW5SSkDJn7G"
      },
      "execution_count": 101,
      "outputs": []
    },
    {
      "cell_type": "markdown",
      "source": [
        "\"자연어\"처리를 원-핫 인코딩 해보자"
      ],
      "metadata": {
        "id": "fqbrudSaLFrt"
      }
    },
    {
      "cell_type": "code",
      "source": [
        "one_hot_encoding(\"자연어\",word_to_index)"
      ],
      "metadata": {
        "colab": {
          "base_uri": "https://localhost:8080/"
        },
        "id": "aM4EBbnGJ_oV",
        "outputId": "d1dc6c23-917d-4130-e12b-749658bb1c6c"
      },
      "execution_count": 102,
      "outputs": [
        {
          "output_type": "execute_result",
          "data": {
            "text/plain": [
              "[0, 0, 1, 0, 0, 0, 0]"
            ]
          },
          "metadata": {},
          "execution_count": 102
        }
      ]
    },
    {
      "cell_type": "markdown",
      "source": [
        "케라스를 이용한 원-핫 인코딩"
      ],
      "metadata": {
        "id": "ooHWBc4ZLEjN"
      }
    },
    {
      "cell_type": "markdown",
      "source": [
        "케라스에서는 to_categorical()을 지원해서 이 도구로 원-핫 인코딩을 할 수 있다."
      ],
      "metadata": {
        "id": "EG9IvrDjLNNX"
      }
    },
    {
      "cell_type": "code",
      "source": [
        "from tensorflow.keras.preprocessing.text import Tokenizer\n",
        "from tensorflow.keras.utils import to_categorical\n",
        "\n",
        "text=\"나랑 별 보러 가지 않을래\"\n",
        "\n",
        "tokenizer = Tokenizer()\n",
        "tokenizer.fit_on_texts([text])\n",
        "print(\"단어 집합 : \",tokenizer.word_index)"
      ],
      "metadata": {
        "colab": {
          "base_uri": "https://localhost:8080/"
        },
        "id": "v1hK-wILLTZN",
        "outputId": "76288298-b816-4159-b7be-8520ea1dc5a4"
      },
      "execution_count": 105,
      "outputs": [
        {
          "output_type": "stream",
          "name": "stdout",
          "text": [
            "단어 집합 :  {'나랑': 1, '별': 2, '보러': 3, '가지': 4, '않을래': 5}\n"
          ]
        }
      ]
    },
    {
      "cell_type": "code",
      "source": [
        "sub_text =  \"별 보러 나랑 가지 않을래\"\n",
        "encoded = tokenizer.texts_to_sequences([sub_text])[0]\n",
        "print(encoded)"
      ],
      "metadata": {
        "colab": {
          "base_uri": "https://localhost:8080/"
        },
        "id": "m9NBzMroLwan",
        "outputId": "24acdb5c-08ed-4118-8be7-9a5b10f14328"
      },
      "execution_count": 107,
      "outputs": [
        {
          "output_type": "stream",
          "name": "stdout",
          "text": [
            "[2, 3, 1, 4, 5]\n"
          ]
        }
      ]
    },
    {
      "cell_type": "code",
      "source": [
        "one_hot = to_categorical(encoded)\n",
        "print(one_hot)"
      ],
      "metadata": {
        "colab": {
          "base_uri": "https://localhost:8080/"
        },
        "id": "OGpTb8kaMGbC",
        "outputId": "56cd663e-3e66-4b7a-d370-cba2dc2439ff"
      },
      "execution_count": 109,
      "outputs": [
        {
          "output_type": "stream",
          "name": "stdout",
          "text": [
            "[[0. 0. 1. 0. 0. 0.]\n",
            " [0. 0. 0. 1. 0. 0.]\n",
            " [0. 1. 0. 0. 0. 0.]\n",
            " [0. 0. 0. 0. 1. 0.]\n",
            " [0. 0. 0. 0. 0. 1.]]\n"
          ]
        }
      ]
    }
  ]
}